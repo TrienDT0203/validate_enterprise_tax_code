{
 "cells": [
  {
   "cell_type": "code",
   "execution_count": 1,
   "metadata": {},
   "outputs": [],
   "source": [
    "import warnings\n",
    "warnings.filterwarnings('ignore')\n",
    "\n",
    "import os\n",
    "import subprocess\n",
    "\n",
    "try:\n",
    "    from google.cloud import drive\n",
    "    drive.mount('/content/drive')\n",
    "\n",
    "    os.chdir('/content/drive/Shareddrives/ba_team/_prod/mst_doanh_nghiep_v2')\n",
    "    subprocess.run(['pip','install','-r','setup/requirements.txt'])\n",
    "except:\n",
    "    pass\n",
    "\n",
    "import telegram\n",
    "from dotenv import load_dotenv\n",
    "from datetime import datetime\n",
    "import pandas as pd\n",
    "\n",
    "from src.lib.etl.class_ETL import ETL\n",
    "\n",
    "load_dotenv('./src/bin/.env')\n",
    "bot_tele = telegram.Bot(token= os.getenv('BOT_TOKEN'))"
   ]
  },
  {
   "cell_type": "code",
   "execution_count": 2,
   "metadata": {},
   "outputs": [],
   "source": [
    "# # This data was created by using the curl method explained above\n",
    "# headers_list = [\n",
    "#     {\"User-Agent\": \"Mozilla/5.0 (Windows NT 10.0; Win64; x64) AppleWebKit/537.36 (KHTML, like Gecko) Chrome/58.0.3029.110 Safari/537.3\",},\n",
    "#     {\"User-Agent\": \"Mozilla/5.0 (Macintosh; Intel Mac OS X 10.15; rv:76.0) Gecko/20100101 Firefox/76.0\",},\n",
    "#     {\"User-Agent\": \"Mozilla/5.0 (iPhone; CPU iPhone OS 13_2_3 like Mac OS X) AppleWebKit/605.1.15 (KHTML, like Gecko) Version/13.0.3 Mobile/15E148 Safari/604.1\",},\n",
    "#     {\"User-Agent\": \"Mozilla/5.0 (Windows NT 10.0; Win64; x64) AppleWebKit/537.36 (KHTML, like Gecko) Chrome/42.0.2311.135 Safari/537.36 Edge/12.246\"},\n",
    "#     {'user-agent': 'Mozilla/5.0 (Windows NT 10.0; Win64; x64) AppleWebKit/537.36 (KHTML, like Gecko) Chrome/120.0.0.0 Safari/537.36',},\n",
    "# ]\n",
    "\n",
    "# # Replace with your authenticated proxy URL\n",
    "# proxyList = []\n",
    "\n",
    "# df = pd.read_csv(rf'./../../_config/iproyal-proxies (1).csv')\n",
    "\n",
    "# for idx, row in df.iterrows():\n",
    "#     proxy = 'http://' + row['User'] + ':' + row['Pass'] +'@'+ row['Host'] + ':' + str(row['Port'])\n",
    "#     proxyList.append(proxy)\n"
   ]
  },
  {
   "cell_type": "code",
   "execution_count": 2,
   "metadata": {},
   "outputs": [],
   "source": [
    "triendt = ETL()\n",
    "\n",
    "bigquery_data = triendt.fetch_data_from_bigquery(\n",
    "    _file_path='./../../_config/cred.json',\n",
    "    _update_time= '2024-04-01',                 ####   <<------ Chọn thời gian mst được thêm mới/ cập nhật. Và phải UNCOMMENT dòng này. Nếu không thì mặc định thời gian check từ 30 trờ về trước bắt đầu từ hôm nay\n",
    "    )\n",
    "\n",
    "data_local = triendt.fetch_data_local_db(db_path='./data/local_db/database.db')\n",
    "\n",
    "data_to_validate = set(bigquery_data.tax_code)\n",
    "data_to_validate.difference_update(set(data_local.tax_code))"
   ]
  },
  {
   "cell_type": "code",
   "execution_count": 4,
   "metadata": {},
   "outputs": [
    {
     "data": {
      "text/plain": [
       "Message(caption='List of customers that provided unvalid tax code', channel_chat_created=False, chat=Chat(id=-1002118260026, title='[FA - BA] Test Bot', type=<ChatType.SUPERGROUP>, username='ahm_fa_test'), date=datetime.datetime(2024, 5, 5, 9, 36, 35, tzinfo=<UTC>), delete_chat_photo=False, document=Document(file_id='BQACAgUAAx0EfkIVOgADZmY3UyPeJuMaOLxvmTe_3q0HmlIhAAI9EgACKGrBVTQ_Bj-Zk-bKNQQ', file_name='data_run_at_16.csv', file_size=371, file_unique_id='AgADPRIAAihqwVU', mime_type='text/csv'), from_user=User(first_name='Triển đẹp trai', id=6243409373, is_bot=True, username='triendt1_bot'), group_chat_created=False, message_id=102, supergroup_chat_created=False)"
      ]
     },
     "execution_count": 4,
     "metadata": {},
     "output_type": "execute_result"
    }
   ],
   "source": [
    "await bot_tele.send_message(\n",
    "            chat_id= os.getenv('GROUP_TEST_ID'),\n",
    "            text= f'Start checking at {str(datetime.now())}'\n",
    "        )\n",
    "\n",
    "file_info = {\n",
    "    'dir' : f'./data/process/{str(datetime.now().date())}',\n",
    "    'file_name' : f'data_run_at_{str(datetime.now().hour)}.csv',\n",
    "    'relative_file_path': f'./data/process/{str(datetime.now().date())}' + '/' +  f'data_run_at_{str(datetime.now().hour)}.csv'\n",
    "}\n",
    "\n",
    "for i, ele in enumerate(data_to_validate):\n",
    "    if not ele.strip():\n",
    "        break\n",
    "\n",
    "    data = triendt.transform_data_from_api(_tax_code = ele.strip())\n",
    "    \n",
    "    if data['name'] == 'No data':\n",
    "        data = triendt.transform_data_from_web(_tax_code=ele.strip())\n",
    "        \n",
    "    if data['name'] != 'No data':\n",
    "        result = triendt.update_data_local_db(db_path= './data/local_db/database.db',\n",
    "                                     _data_to_update= (data['id'], data['name'], datetime.now().date())\n",
    "                                     )\n",
    "    \n",
    "    else:\n",
    "        user_id = bigquery_data[bigquery_data.tax_code.str.contains(ele.strip())]['user_id'].drop_duplicates().tolist()[0]\n",
    "        result = triendt.write_data_to_csv_file(\n",
    "                    _data= f\"{str(ele.strip())},No data,No data,{user_id}\",\n",
    "                    file_name = file_info['file_name'], \n",
    "                    _file_path= file_info['dir']\n",
    "                )\n",
    "\n",
    "\n",
    "await bot_tele.send_message(\n",
    "            chat_id= os.getenv('GROUP_TEST_ID'),\n",
    "            text= f'Finished at {str(datetime.now())}'\n",
    "        )\n",
    "\n",
    "await bot_tele.send_document(\n",
    "            chat_id= os.getenv('GROUP_TEST_ID'),\n",
    "            document = open( file_info['relative_file_path'], 'rb'), \n",
    "            caption = 'List of customers that provided unvalid tax code'\n",
    "        )\n"
   ]
  }
 ],
 "metadata": {
  "colab": {
   "provenance": []
  },
  "kernelspec": {
   "display_name": "Python 3",
   "language": "python",
   "name": "python3"
  },
  "language_info": {
   "codemirror_mode": {
    "name": "ipython",
    "version": 3
   },
   "file_extension": ".py",
   "mimetype": "text/x-python",
   "name": "python",
   "nbconvert_exporter": "python",
   "pygments_lexer": "ipython3",
   "version": "3.12.0"
  }
 },
 "nbformat": 4,
 "nbformat_minor": 0
}
